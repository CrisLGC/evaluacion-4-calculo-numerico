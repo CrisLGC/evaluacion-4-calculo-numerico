{
 "cells": [
  {
   "cell_type": "markdown",
   "metadata": {},
   "source": [
    "<h1>Rodrigo Torres. C.I: 31.014.592 & Cristian Guevara. C.I: 31.567.525</h1>\n"
   ]
  },
  {
   "cell_type": "code",
   "execution_count": 19,
   "metadata": {},
   "outputs": [],
   "source": [
    "import pandas as pd\n",
    "\n",
    "df = pd.read_csv('model.txt', skiprows=3, sep=r'\\s+')"
   ]
  },
  {
   "cell_type": "code",
   "execution_count": 22,
   "metadata": {},
   "outputs": [
    {
     "data": {
      "text/html": [
       "<div>\n",
       "<style scoped>\n",
       "    .dataframe tbody tr th:only-of-type {\n",
       "        vertical-align: middle;\n",
       "    }\n",
       "\n",
       "    .dataframe tbody tr th {\n",
       "        vertical-align: top;\n",
       "    }\n",
       "\n",
       "    .dataframe thead th {\n",
       "        text-align: right;\n",
       "    }\n",
       "</style>\n",
       "<table border=\"1\" class=\"dataframe\">\n",
       "  <thead>\n",
       "    <tr style=\"text-align: right;\">\n",
       "      <th></th>\n",
       "      <th>YYYYMMDD</th>\n",
       "      <th>HHMM</th>\n",
       "      <th>M(m/s)</th>\n",
       "      <th>D(deg)</th>\n",
       "      <th>T(C)</th>\n",
       "      <th>De(k/m3)</th>\n",
       "      <th>PRE(hPa)</th>\n",
       "      <th>RiNumber</th>\n",
       "      <th>RH(%)</th>\n",
       "    </tr>\n",
       "  </thead>\n",
       "  <tbody>\n",
       "    <tr>\n",
       "      <th>0</th>\n",
       "      <td>19840101</td>\n",
       "      <td>0</td>\n",
       "      <td>20.8</td>\n",
       "      <td>243</td>\n",
       "      <td>7.3</td>\n",
       "      <td>1.25</td>\n",
       "      <td>1002.8</td>\n",
       "      <td>0.04</td>\n",
       "      <td>86.3</td>\n",
       "    </tr>\n",
       "    <tr>\n",
       "      <th>1</th>\n",
       "      <td>19840101</td>\n",
       "      <td>100</td>\n",
       "      <td>20.8</td>\n",
       "      <td>243</td>\n",
       "      <td>7.3</td>\n",
       "      <td>1.25</td>\n",
       "      <td>1002.2</td>\n",
       "      <td>0.04</td>\n",
       "      <td>86.9</td>\n",
       "    </tr>\n",
       "    <tr>\n",
       "      <th>2</th>\n",
       "      <td>19840101</td>\n",
       "      <td>200</td>\n",
       "      <td>20.6</td>\n",
       "      <td>243</td>\n",
       "      <td>7.4</td>\n",
       "      <td>1.24</td>\n",
       "      <td>1001.8</td>\n",
       "      <td>0.04</td>\n",
       "      <td>87.0</td>\n",
       "    </tr>\n",
       "    <tr>\n",
       "      <th>3</th>\n",
       "      <td>19840101</td>\n",
       "      <td>300</td>\n",
       "      <td>20.4</td>\n",
       "      <td>244</td>\n",
       "      <td>7.5</td>\n",
       "      <td>1.24</td>\n",
       "      <td>1001.5</td>\n",
       "      <td>0.05</td>\n",
       "      <td>86.2</td>\n",
       "    </tr>\n",
       "    <tr>\n",
       "      <th>4</th>\n",
       "      <td>19840101</td>\n",
       "      <td>400</td>\n",
       "      <td>20.3</td>\n",
       "      <td>245</td>\n",
       "      <td>7.5</td>\n",
       "      <td>1.24</td>\n",
       "      <td>1001.2</td>\n",
       "      <td>0.05</td>\n",
       "      <td>85.6</td>\n",
       "    </tr>\n",
       "  </tbody>\n",
       "</table>\n",
       "</div>"
      ],
      "text/plain": [
       "   YYYYMMDD  HHMM  M(m/s)  D(deg)  T(C)  De(k/m3)  PRE(hPa)  RiNumber  RH(%)\n",
       "0  19840101     0    20.8     243   7.3      1.25    1002.8      0.04   86.3\n",
       "1  19840101   100    20.8     243   7.3      1.25    1002.2      0.04   86.9\n",
       "2  19840101   200    20.6     243   7.4      1.24    1001.8      0.04   87.0\n",
       "3  19840101   300    20.4     244   7.5      1.24    1001.5      0.05   86.2\n",
       "4  19840101   400    20.3     245   7.5      1.24    1001.2      0.05   85.6"
      ]
     },
     "execution_count": 22,
     "metadata": {},
     "output_type": "execute_result"
    }
   ],
   "source": [
    "df.head()"
   ]
  },
  {
   "cell_type": "markdown",
   "metadata": {},
   "source": [
    "<h3>1.- Representar la matriz scatter de la velocidad y orientación del viento de los primeros mil registros.</h3>"
   ]
  },
  {
   "cell_type": "code",
   "execution_count": null,
   "metadata": {},
   "outputs": [],
   "source": [
    "#Código para el 1er ejercicio\n"
   ]
  },
  {
   "cell_type": "markdown",
   "metadata": {},
   "source": [
    "<h3>2.- Misma matriz scatter para los 1000 registros con mayor velocidad, ordenados.</h3>"
   ]
  },
  {
   "cell_type": "code",
   "execution_count": null,
   "metadata": {},
   "outputs": [],
   "source": [
    "#Código para el 2do ejercicio"
   ]
  },
  {
   "cell_type": "markdown",
   "metadata": {},
   "source": [
    "<h3>3.- Histograma de la velocidad del viento con 36 particiones.</h3>"
   ]
  },
  {
   "cell_type": "code",
   "execution_count": null,
   "metadata": {},
   "outputs": [],
   "source": [
    "#Código para el 3er ejercicio"
   ]
  },
  {
   "cell_type": "markdown",
   "metadata": {},
   "source": [
    "<h3>4.- Histórico de la velocidad media, con los datos agrupados por años y meses.</h3>"
   ]
  },
  {
   "cell_type": "code",
   "execution_count": null,
   "metadata": {},
   "outputs": [],
   "source": [
    "#Código para el 4to ejercicio"
   ]
  },
  {
   "cell_type": "markdown",
   "metadata": {},
   "source": [
    "<h3>5.- Tabla de velocidades medias en función del año (filas) y del mes (columnas).</h3>"
   ]
  },
  {
   "cell_type": "code",
   "execution_count": null,
   "metadata": {},
   "outputs": [],
   "source": [
    "#Código para el 5to ejercicio"
   ]
  },
  {
   "cell_type": "markdown",
   "metadata": {},
   "source": [
    "<h3>6.- Gráfica con los históricos de cada año, agrupados por meses, superpuestos.</h3>"
   ]
  },
  {
   "cell_type": "code",
   "execution_count": null,
   "metadata": {},
   "outputs": [],
   "source": [
    "#Código para el 6to ejercicio"
   ]
  }
 ],
 "metadata": {
  "kernelspec": {
   "display_name": "Python 3",
   "language": "python",
   "name": "python3"
  },
  "language_info": {
   "codemirror_mode": {
    "name": "ipython",
    "version": 3
   },
   "file_extension": ".py",
   "mimetype": "text/x-python",
   "name": "python",
   "nbconvert_exporter": "python",
   "pygments_lexer": "ipython3",
   "version": "3.12.1"
  }
 },
 "nbformat": 4,
 "nbformat_minor": 2
}
