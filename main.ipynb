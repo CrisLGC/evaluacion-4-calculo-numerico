{
 "cells": [
  {
   "cell_type": "markdown",
   "metadata": {},
   "source": [
    "<h1>Rodrigo Torres. C.I: 31.014.592 & Cristian Guevara. C.I: 31.567.525</h1>\n"
   ]
  },
  {
   "cell_type": "code",
   "execution_count": 70,
   "metadata": {},
   "outputs": [],
   "source": [
    "import pandas as pd\n",
    "import matplotlib.pyplot as plt\n",
    "import seaborn as sns\n",
    "\n",
    "df = pd.read_csv('model.txt', skiprows=3, sep=r'\\s+')"
   ]
  },
  {
   "cell_type": "code",
   "execution_count": 71,
   "metadata": {},
   "outputs": [
    {
     "data": {
      "text/html": [
       "<div>\n",
       "<style scoped>\n",
       "    .dataframe tbody tr th:only-of-type {\n",
       "        vertical-align: middle;\n",
       "    }\n",
       "\n",
       "    .dataframe tbody tr th {\n",
       "        vertical-align: top;\n",
       "    }\n",
       "\n",
       "    .dataframe thead th {\n",
       "        text-align: right;\n",
       "    }\n",
       "</style>\n",
       "<table border=\"1\" class=\"dataframe\">\n",
       "  <thead>\n",
       "    <tr style=\"text-align: right;\">\n",
       "      <th></th>\n",
       "      <th>YYYYMMDD</th>\n",
       "      <th>HHMM</th>\n",
       "      <th>M(m/s)</th>\n",
       "      <th>D(deg)</th>\n",
       "      <th>T(C)</th>\n",
       "      <th>De(k/m3)</th>\n",
       "      <th>PRE(hPa)</th>\n",
       "      <th>RiNumber</th>\n",
       "      <th>RH(%)</th>\n",
       "    </tr>\n",
       "  </thead>\n",
       "  <tbody>\n",
       "    <tr>\n",
       "      <th>0</th>\n",
       "      <td>19840101</td>\n",
       "      <td>0</td>\n",
       "      <td>20.8</td>\n",
       "      <td>243</td>\n",
       "      <td>7.3</td>\n",
       "      <td>1.25</td>\n",
       "      <td>1002.8</td>\n",
       "      <td>0.04</td>\n",
       "      <td>86.3</td>\n",
       "    </tr>\n",
       "    <tr>\n",
       "      <th>1</th>\n",
       "      <td>19840101</td>\n",
       "      <td>100</td>\n",
       "      <td>20.8</td>\n",
       "      <td>243</td>\n",
       "      <td>7.3</td>\n",
       "      <td>1.25</td>\n",
       "      <td>1002.2</td>\n",
       "      <td>0.04</td>\n",
       "      <td>86.9</td>\n",
       "    </tr>\n",
       "    <tr>\n",
       "      <th>2</th>\n",
       "      <td>19840101</td>\n",
       "      <td>200</td>\n",
       "      <td>20.6</td>\n",
       "      <td>243</td>\n",
       "      <td>7.4</td>\n",
       "      <td>1.24</td>\n",
       "      <td>1001.8</td>\n",
       "      <td>0.04</td>\n",
       "      <td>87.0</td>\n",
       "    </tr>\n",
       "    <tr>\n",
       "      <th>3</th>\n",
       "      <td>19840101</td>\n",
       "      <td>300</td>\n",
       "      <td>20.4</td>\n",
       "      <td>244</td>\n",
       "      <td>7.5</td>\n",
       "      <td>1.24</td>\n",
       "      <td>1001.5</td>\n",
       "      <td>0.05</td>\n",
       "      <td>86.2</td>\n",
       "    </tr>\n",
       "    <tr>\n",
       "      <th>4</th>\n",
       "      <td>19840101</td>\n",
       "      <td>400</td>\n",
       "      <td>20.3</td>\n",
       "      <td>245</td>\n",
       "      <td>7.5</td>\n",
       "      <td>1.24</td>\n",
       "      <td>1001.2</td>\n",
       "      <td>0.05</td>\n",
       "      <td>85.6</td>\n",
       "    </tr>\n",
       "  </tbody>\n",
       "</table>\n",
       "</div>"
      ],
      "text/plain": [
       "   YYYYMMDD  HHMM  M(m/s)  D(deg)  T(C)  De(k/m3)  PRE(hPa)  RiNumber  RH(%)\n",
       "0  19840101     0    20.8     243   7.3      1.25    1002.8      0.04   86.3\n",
       "1  19840101   100    20.8     243   7.3      1.25    1002.2      0.04   86.9\n",
       "2  19840101   200    20.6     243   7.4      1.24    1001.8      0.04   87.0\n",
       "3  19840101   300    20.4     244   7.5      1.24    1001.5      0.05   86.2\n",
       "4  19840101   400    20.3     245   7.5      1.24    1001.2      0.05   85.6"
      ]
     },
     "execution_count": 71,
     "metadata": {},
     "output_type": "execute_result"
    }
   ],
   "source": [
    "df.head()"
   ]
  },
  {
   "cell_type": "markdown",
   "metadata": {},
   "source": [
    "<h3>1.- Representar la matriz scatter de la velocidad y orientación del viento de los primeros mil registros.</h3>"
   ]
  },
  {
   "cell_type": "code",
   "execution_count": 72,
   "metadata": {},
   "outputs": [
    {
     "data": {
      "text/html": [
       "<div>\n",
       "<style scoped>\n",
       "    .dataframe tbody tr th:only-of-type {\n",
       "        vertical-align: middle;\n",
       "    }\n",
       "\n",
       "    .dataframe tbody tr th {\n",
       "        vertical-align: top;\n",
       "    }\n",
       "\n",
       "    .dataframe thead th {\n",
       "        text-align: right;\n",
       "    }\n",
       "</style>\n",
       "<table border=\"1\" class=\"dataframe\">\n",
       "  <thead>\n",
       "    <tr style=\"text-align: right;\">\n",
       "      <th></th>\n",
       "      <th>YYYYMMDD</th>\n",
       "      <th>HHMM</th>\n",
       "      <th>M(m/s)</th>\n",
       "      <th>D(deg)</th>\n",
       "      <th>T(C)</th>\n",
       "      <th>De(k/m3)</th>\n",
       "      <th>PRE(hPa)</th>\n",
       "      <th>RiNumber</th>\n",
       "      <th>RH(%)</th>\n",
       "    </tr>\n",
       "  </thead>\n",
       "  <tbody>\n",
       "    <tr>\n",
       "      <th>0</th>\n",
       "      <td>19840101</td>\n",
       "      <td>0</td>\n",
       "      <td>20.8</td>\n",
       "      <td>243</td>\n",
       "      <td>7.3</td>\n",
       "      <td>1.25</td>\n",
       "      <td>1002.8</td>\n",
       "      <td>0.04</td>\n",
       "      <td>86.3</td>\n",
       "    </tr>\n",
       "    <tr>\n",
       "      <th>1</th>\n",
       "      <td>19840101</td>\n",
       "      <td>100</td>\n",
       "      <td>20.8</td>\n",
       "      <td>243</td>\n",
       "      <td>7.3</td>\n",
       "      <td>1.25</td>\n",
       "      <td>1002.2</td>\n",
       "      <td>0.04</td>\n",
       "      <td>86.9</td>\n",
       "    </tr>\n",
       "    <tr>\n",
       "      <th>2</th>\n",
       "      <td>19840101</td>\n",
       "      <td>200</td>\n",
       "      <td>20.6</td>\n",
       "      <td>243</td>\n",
       "      <td>7.4</td>\n",
       "      <td>1.24</td>\n",
       "      <td>1001.8</td>\n",
       "      <td>0.04</td>\n",
       "      <td>87.0</td>\n",
       "    </tr>\n",
       "    <tr>\n",
       "      <th>3</th>\n",
       "      <td>19840101</td>\n",
       "      <td>300</td>\n",
       "      <td>20.4</td>\n",
       "      <td>244</td>\n",
       "      <td>7.5</td>\n",
       "      <td>1.24</td>\n",
       "      <td>1001.5</td>\n",
       "      <td>0.05</td>\n",
       "      <td>86.2</td>\n",
       "    </tr>\n",
       "    <tr>\n",
       "      <th>4</th>\n",
       "      <td>19840101</td>\n",
       "      <td>400</td>\n",
       "      <td>20.3</td>\n",
       "      <td>245</td>\n",
       "      <td>7.5</td>\n",
       "      <td>1.24</td>\n",
       "      <td>1001.2</td>\n",
       "      <td>0.05</td>\n",
       "      <td>85.6</td>\n",
       "    </tr>\n",
       "    <tr>\n",
       "      <th>...</th>\n",
       "      <td>...</td>\n",
       "      <td>...</td>\n",
       "      <td>...</td>\n",
       "      <td>...</td>\n",
       "      <td>...</td>\n",
       "      <td>...</td>\n",
       "      <td>...</td>\n",
       "      <td>...</td>\n",
       "      <td>...</td>\n",
       "    </tr>\n",
       "    <tr>\n",
       "      <th>995</th>\n",
       "      <td>19840211</td>\n",
       "      <td>1100</td>\n",
       "      <td>6.6</td>\n",
       "      <td>348</td>\n",
       "      <td>5.4</td>\n",
       "      <td>1.28</td>\n",
       "      <td>1026.8</td>\n",
       "      <td>0.40</td>\n",
       "      <td>90.4</td>\n",
       "    </tr>\n",
       "    <tr>\n",
       "      <th>996</th>\n",
       "      <td>19840211</td>\n",
       "      <td>1200</td>\n",
       "      <td>6.0</td>\n",
       "      <td>352</td>\n",
       "      <td>5.4</td>\n",
       "      <td>1.29</td>\n",
       "      <td>1027.0</td>\n",
       "      <td>0.48</td>\n",
       "      <td>91.7</td>\n",
       "    </tr>\n",
       "    <tr>\n",
       "      <th>997</th>\n",
       "      <td>19840211</td>\n",
       "      <td>1300</td>\n",
       "      <td>5.5</td>\n",
       "      <td>0</td>\n",
       "      <td>5.3</td>\n",
       "      <td>1.29</td>\n",
       "      <td>1026.9</td>\n",
       "      <td>0.67</td>\n",
       "      <td>92.2</td>\n",
       "    </tr>\n",
       "    <tr>\n",
       "      <th>998</th>\n",
       "      <td>19840211</td>\n",
       "      <td>1400</td>\n",
       "      <td>5.0</td>\n",
       "      <td>11</td>\n",
       "      <td>5.3</td>\n",
       "      <td>1.29</td>\n",
       "      <td>1026.9</td>\n",
       "      <td>0.75</td>\n",
       "      <td>92.6</td>\n",
       "    </tr>\n",
       "    <tr>\n",
       "      <th>999</th>\n",
       "      <td>19840211</td>\n",
       "      <td>1500</td>\n",
       "      <td>4.6</td>\n",
       "      <td>23</td>\n",
       "      <td>5.2</td>\n",
       "      <td>1.29</td>\n",
       "      <td>1026.9</td>\n",
       "      <td>0.71</td>\n",
       "      <td>93.2</td>\n",
       "    </tr>\n",
       "  </tbody>\n",
       "</table>\n",
       "<p>1000 rows × 9 columns</p>\n",
       "</div>"
      ],
      "text/plain": [
       "     YYYYMMDD  HHMM  M(m/s)  D(deg)  T(C)  De(k/m3)  PRE(hPa)  RiNumber  RH(%)\n",
       "0    19840101     0    20.8     243   7.3      1.25    1002.8      0.04   86.3\n",
       "1    19840101   100    20.8     243   7.3      1.25    1002.2      0.04   86.9\n",
       "2    19840101   200    20.6     243   7.4      1.24    1001.8      0.04   87.0\n",
       "3    19840101   300    20.4     244   7.5      1.24    1001.5      0.05   86.2\n",
       "4    19840101   400    20.3     245   7.5      1.24    1001.2      0.05   85.6\n",
       "..        ...   ...     ...     ...   ...       ...       ...       ...    ...\n",
       "995  19840211  1100     6.6     348   5.4      1.28    1026.8      0.40   90.4\n",
       "996  19840211  1200     6.0     352   5.4      1.29    1027.0      0.48   91.7\n",
       "997  19840211  1300     5.5       0   5.3      1.29    1026.9      0.67   92.2\n",
       "998  19840211  1400     5.0      11   5.3      1.29    1026.9      0.75   92.6\n",
       "999  19840211  1500     4.6      23   5.2      1.29    1026.9      0.71   93.2\n",
       "\n",
       "[1000 rows x 9 columns]"
      ]
     },
     "execution_count": 72,
     "metadata": {},
     "output_type": "execute_result"
    }
   ],
   "source": [
    "#Código para el 1er ejercicio\n",
    "df.head(1000)\n",
    "\n"
   ]
  },
  {
   "cell_type": "markdown",
   "metadata": {},
   "source": [
    "<h3>2.- Misma matriz scatter para los 1000 registros con mayor velocidad, ordenados.</h3>"
   ]
  },
  {
   "cell_type": "code",
   "execution_count": 73,
   "metadata": {},
   "outputs": [],
   "source": [
    "#Código para el 2do ejercicio"
   ]
  },
  {
   "cell_type": "markdown",
   "metadata": {},
   "source": [
    "<h3>3.- Histograma de la velocidad del viento con 36 particiones.</h3>"
   ]
  },
  {
   "cell_type": "code",
   "execution_count": 74,
   "metadata": {},
   "outputs": [
    {
     "data": {
      "image/png": "[encoded data removed]",
      "text/plain": [
       "<Figure size 640x480 with 1 Axes>"
      ]
     },
     "metadata": {},
     "output_type": "display_data"
    }
   ],
   "source": [
    "#Código para el 3er ejercicio\n",
    "column_names = ['Fecha', 'Hora', 'Velocidad_viento', 'Direccion_viento', 'Temperatura', 'Densidad', 'Presion', 'RiNumber', 'Humedad']\n",
    "df = pd.read_csv('model.txt', skiprows=4, sep=r'\\s+', names=column_names)\n",
    "data_first_1000 = df.head(1000)\n",
    "plt.hist(data_first_1000['Velocidad_viento'], bins=36, edgecolor='black')\n",
    "plt.xlabel('Velocidad del Viento (m/s)')\n",
    "plt.ylabel('Frecuencia')\n",
    "plt.title('Histograma de la velocidad del Viento (Primeros 1000 Registros)')\n",
    "plt.grid(True)\n",
    "plt.show()"
   ]
  },
  {
   "cell_type": "markdown",
   "metadata": {},
   "source": [
    "<h3>4.- Histórico de la velocidad media, con los datos agrupados por años y meses.</h3>"
   ]
  },
  {
   "cell_type": "code",
   "execution_count": 75,
   "metadata": {},
   "outputs": [],
   "source": [
    "#Código para el 4to ejercicio"
   ]
  },
  {
   "cell_type": "markdown",
   "metadata": {},
   "source": [
    "<h3>5.- Tabla de velocidades medias en función del año (filas) y del mes (columnas).</h3>"
   ]
  },
  {
   "cell_type": "code",
   "execution_count": 76,
   "metadata": {},
   "outputs": [],
   "source": [
    "#Código para el 5to ejercicio"
   ]
  },
  {
   "cell_type": "markdown",
   "metadata": {},
   "source": [
    "<h3>6.- Gráfica con los históricos de cada año, agrupados por meses, superpuestos.</h3>"
   ]
  },
  {
   "cell_type": "code",
   "execution_count": 77,
   "metadata": {},
   "outputs": [],
   "source": [
    "#Código para el 6to ejercicio"
   ]
  }
 ],
 "metadata": {
  "kernelspec": {
   "display_name": "Python 3",
   "language": "python",
   "name": "python3"
  },
  "language_info": {
   "codemirror_mode": {
    "name": "ipython",
    "version": 3
   },
   "file_extension": ".py",
   "mimetype": "text/x-python",
   "name": "python",
   "nbconvert_exporter": "python",
   "pygments_lexer": "ipython3",
   "version": "3.12.1"
  }
 },
 "nbformat": 4,
 "nbformat_minor": 2
}
